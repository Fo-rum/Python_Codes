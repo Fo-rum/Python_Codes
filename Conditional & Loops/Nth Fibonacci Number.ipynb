{
 "cells": [
  {
   "cell_type": "markdown",
   "metadata": {},
   "source": [
    "Nth term of Fibonacci series F(n) is calculated using the following formula -\n",
    "    F(n) = F(n-1) + F(n-2), \n",
    "    Where, F(1) = F(2) = 1\n",
    "Provided N you have to find out the Nth Fibonacci Number."
   ]
  },
  {
   "cell_type": "markdown",
   "metadata": {},
   "source": [
    "Input Format :\n",
    "The first line of each test case contains a real number ‘N’.\n",
    "\n",
    "Output Format :\n",
    "For each test case, return its equivalent Fibonacci number.\n",
    "\n",
    "Constraints:\n",
    "1 <= N <= 10000     \n",
    "Where ‘N’ represents the number for which we have to find its equivalent Fibonacci number.\n",
    "\n",
    "Time Limit: 1 second"
   ]
  },
  {
   "cell_type": "code",
   "execution_count": null,
   "metadata": {},
   "outputs": [],
   "source": [
    "## Read input as specified in the question.\n",
    "## Print output as specified in the question.\n",
    "def fibo(num):\n",
    "    \n",
    "    if num<1:\n",
    "        return 0\n",
    "    if num == 1:\n",
    "        return 1\n",
    "    \n",
    "    return fibo(num-1)+fibo(num-2)\n",
    "\n",
    "n = int(input())\n",
    "res = fibo(n)\n",
    "print(res)"
   ]
  },
  {
   "cell_type": "code",
   "execution_count": null,
   "metadata": {},
   "outputs": [],
   "source": [
    "\"\"\"\n",
    "Sample Input 1:\n",
    "6\n",
    "Sample Output 1:\n",
    "8\n",
    "Explanation of Sample Input 1:\n",
    "Now the number is ‘6’ so we have to find the “6th” Fibonacci number\n",
    "So by using the property of the Fibonacci series i.e \n",
    "\n",
    "[ 1, 1, 2, 3, 5, 8]\n",
    "So the “6th” element is “8” hence we get the output.\n",
    "\"\"\""
   ]
  }
 ],
 "metadata": {
  "kernelspec": {
   "display_name": "Python 3",
   "language": "python",
   "name": "python3"
  },
  "language_info": {
   "codemirror_mode": {
    "name": "ipython",
    "version": 3
   },
   "file_extension": ".py",
   "mimetype": "text/x-python",
   "name": "python",
   "nbconvert_exporter": "python",
   "pygments_lexer": "ipython3",
   "version": "3.8.2"
  }
 },
 "nbformat": 4,
 "nbformat_minor": 4
}
