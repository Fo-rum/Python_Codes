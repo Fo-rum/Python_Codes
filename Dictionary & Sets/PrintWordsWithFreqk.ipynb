{
 "cells": [
  {
   "cell_type": "code",
   "execution_count": 11,
   "metadata": {},
   "outputs": [
    {
     "name": "stdout",
     "output_type": "stream",
     "text": [
      "word\n"
     ]
    }
   ],
   "source": [
    "\n",
    "#approach 1\n",
    "s = 'this is a word string having many word'\n",
    "k = 2\n",
    "\n",
    "words = s.split()\n",
    "d= {}\n",
    "for w in words:\n",
    "    if w in d:\n",
    "        d[w] = d[w]+1\n",
    "    else:\n",
    "        d[w] = 1\n",
    "\n",
    "for w in d:\n",
    "    if d[w] == k:\n",
    "        print(w)"
   ]
  },
  {
   "cell_type": "code",
   "execution_count": 2,
   "metadata": {},
   "outputs": [
    {
     "name": "stdout",
     "output_type": "stream",
     "text": [
      "word\n"
     ]
    }
   ],
   "source": [
    "#approach 2\n",
    "s = 'this is a word string having many word'\n",
    "k = 2\n",
    "\n",
    "words = s.split()\n",
    "d= {}\n",
    "\n",
    "#precise way of writing\n",
    "for w in words:\n",
    "    d[w] = d.get(w,0) + 1\n",
    "\n",
    "for w in d:\n",
    "    if d[w] == k:\n",
    "        print(w)"
   ]
  },
  {
   "cell_type": "code",
   "execution_count": 6,
   "metadata": {},
   "outputs": [
    {
     "name": "stdout",
     "output_type": "stream",
     "text": [
      "this is a word string with many word and word\n",
      "2\n"
     ]
    }
   ],
   "source": [
    "#Using a function for the above code\n",
    "\n",
    "def printFreqWords(s,k):\n",
    "    words = s.split()\n",
    "    d = {}\n",
    "    \n",
    "    for w in words:\n",
    "        d[w] = d.get(w,0) + 1\n",
    "\n",
    "    for w in d:\n",
    "        if d[w] == k:\n",
    "            print(w)\n",
    "\n",
    "s = input()\n",
    "k = int(input())\n",
    "printFreqWords(s,k)\n",
    "    "
   ]
  }
 ],
 "metadata": {
  "kernelspec": {
   "display_name": "Python 3",
   "language": "python",
   "name": "python3"
  },
  "language_info": {
   "codemirror_mode": {
    "name": "ipython",
    "version": 3
   },
   "file_extension": ".py",
   "mimetype": "text/x-python",
   "name": "python",
   "nbconvert_exporter": "python",
   "pygments_lexer": "ipython3",
   "version": "3.8.2"
  }
 },
 "nbformat": 4,
 "nbformat_minor": 4
}
