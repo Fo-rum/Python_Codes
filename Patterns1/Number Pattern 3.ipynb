{
 "cells": [
  {
   "cell_type": "markdown",
   "metadata": {},
   "source": [
    "Print the following pattern for the given N number of rows.\n",
    "\n",
    "Input format :\n",
    "Integer N (Total no. of rows)\n",
    "\n",
    "Output format :\n",
    "Pattern in N lines"
   ]
  },
  {
   "cell_type": "code",
   "execution_count": null,
   "metadata": {},
   "outputs": [],
   "source": [
    "## Read input as specified in the question.\n",
    "## Print output as specified in the question.\n",
    "n = int(input())\n",
    "i = 0\n",
    " \n",
    "while i<n:\n",
    "      if i == 0:\n",
    "          print(1)\n",
    "          i = i + 1\n",
    "      elif i == 1:\n",
    "          j = 0\n",
    "          while j <= i:\n",
    "              print(1, end='')\n",
    "              j = j + 1\n",
    "          print()\n",
    "          i = i + 1\n",
    "      else:\n",
    "          j = 0\n",
    "          while j <=i:\n",
    "              print(1, end='')\n",
    "              k = j + 1\n",
    "              while k<i:\n",
    "                  print(2,end='')\n",
    "                  k = k+1\n",
    "              j = k\n",
    "              print(1, end='')\n",
    "              j = j + 1\n",
    "          print()\n",
    "          i = i+1\n",
    "          \n",
    "                \n",
    "            \n",
    "        "
   ]
  },
  {
   "cell_type": "code",
   "execution_count": null,
   "metadata": {},
   "outputs": [],
   "source": [
    "\"\"\"\n",
    "Sample Input :\n",
    "5\n",
    "Sample Output :\n",
    "1\n",
    "11\n",
    "121\n",
    "1221\n",
    "12221\n",
    "\"\"\""
   ]
  }
 ],
 "metadata": {
  "kernelspec": {
   "display_name": "Python 3",
   "language": "python",
   "name": "python3"
  },
  "language_info": {
   "codemirror_mode": {
    "name": "ipython",
    "version": 3
   },
   "file_extension": ".py",
   "mimetype": "text/x-python",
   "name": "python",
   "nbconvert_exporter": "python",
   "pygments_lexer": "ipython3",
   "version": "3.8.2"
  }
 },
 "nbformat": 4,
 "nbformat_minor": 4
}
