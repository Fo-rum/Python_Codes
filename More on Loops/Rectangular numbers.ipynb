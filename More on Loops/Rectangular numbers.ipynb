{
 "cells": [
  {
   "cell_type": "code",
   "execution_count": null,
   "metadata": {},
   "outputs": [],
   "source": [
    "## Read input as specified in the question.\n",
    "## Print output as specified in the question.\n",
    "N = int(input())\n",
    "  \n",
    "for i in range(1, N + 1):  \n",
    "    for j in range(1, N + 1):  \n",
    "        min = i if i < j else j  \n",
    "        print(N - min + 1, end = \"\")  \n",
    "  \n",
    "    for j in range(N - 1, 0, -1):  \n",
    "        min = i if i < j else j  \n",
    "        print(N - min + 1, end = \"\") \n",
    "  \n",
    "    print() \n",
    "      \n",
    "for i in range(N - 1, 0, -1):  \n",
    "    for j in range(1, N + 1):  \n",
    "        min = i if i < j else j  \n",
    "        print(N - min + 1, end = \"\")  \n",
    "  \n",
    "    for j in range(N - 1, 0, -1):  \n",
    "        min = i if i < j else j  \n",
    "        print(N - min + 1, end = \"\") \n",
    "  \n",
    "    print() \n",
    "\n"
   ]
  },
  {
   "cell_type": "code",
   "execution_count": null,
   "metadata": {},
   "outputs": [],
   "source": [
    "\"\"\"\n",
    "Sample Input :\n",
    "3\n",
    "Sample Output :\n",
    "33333\n",
    "32223\n",
    "32123\n",
    "32223\n",
    "33333\n",
    "\"\"\""
   ]
  }
 ],
 "metadata": {
  "kernelspec": {
   "display_name": "Python 3",
   "language": "python",
   "name": "python3"
  },
  "language_info": {
   "codemirror_mode": {
    "name": "ipython",
    "version": 3
   },
   "file_extension": ".py",
   "mimetype": "text/x-python",
   "name": "python",
   "nbconvert_exporter": "python",
   "pygments_lexer": "ipython3",
   "version": "3.8.2"
  }
 },
 "nbformat": 4,
 "nbformat_minor": 4
}
