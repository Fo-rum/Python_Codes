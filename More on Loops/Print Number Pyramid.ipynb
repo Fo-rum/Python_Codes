{
 "cells": [
  {
   "cell_type": "code",
   "execution_count": null,
   "metadata": {},
   "outputs": [],
   "source": [
    "## Read input as specified in the question.\n",
    "## Print output as specified in the question.\n",
    "n = int(input())\n",
    "#printing first half\n",
    "for i in range(1,n,1):\n",
    "    for spaces in range(i-1):\n",
    "        print(' ', end='')\n",
    "    k = i    \n",
    "    for j in range(1, n-i+2, 1):\n",
    "        print(k, end='')\n",
    "        k = k+1\n",
    "    print()    \n",
    "#printing second half\n",
    "for spaces in range(n-1):\n",
    "  print(' ', end='')\n",
    "print(n)\n",
    "#printing the third half\n",
    "for i in range(1,n,1):\n",
    "  for spaces in range(n-i-1):\n",
    "    print(' ', end='')\n",
    "  for j in range(n-i, n+1 , 1):\n",
    "    print(j, end='')\n",
    "  print()    "
   ]
  },
  {
   "cell_type": "code",
   "execution_count": null,
   "metadata": {},
   "outputs": [],
   "source": [
    "\"\"\"\n",
    "Sample Input 1 :\n",
    "4\n",
    "Sample Output 1 :\n",
    "1234\n",
    " 234\n",
    "  34\n",
    "   4\n",
    "  34\n",
    " 234\n",
    "1234\n",
    "\"\"\""
   ]
  }
 ],
 "metadata": {
  "kernelspec": {
   "display_name": "Python 3",
   "language": "python",
   "name": "python3"
  },
  "language_info": {
   "codemirror_mode": {
    "name": "ipython",
    "version": 3
   },
   "file_extension": ".py",
   "mimetype": "text/x-python",
   "name": "python",
   "nbconvert_exporter": "python",
   "pygments_lexer": "ipython3",
   "version": "3.8.2"
  }
 },
 "nbformat": 4,
 "nbformat_minor": 4
}
