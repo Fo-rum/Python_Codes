{
 "cells": [
  {
   "cell_type": "markdown",
   "metadata": {},
   "source": [
    "You have been given an integer array/list(ARR) of size N. \n",
    "\n",
    "It has been sorted(in increasing order) and then rotated by some number 'K' in the clockwise direction.\n",
    "\n",
    "Your task is to write a function that returns the value of 'K', that means, the index from which the array/list has been rotated."
   ]
  },
  {
   "cell_type": "markdown",
   "metadata": {},
   "source": [
    "Input format :\n",
    "The first line contains an Integer 't' which denotes the number of test cases or queries to be run. \n",
    "\n",
    "Then the test cases follow.\n",
    "\n",
    "First line of each test case or query contains an integer 'N' representing the size of the array/list.\n",
    "\n",
    "Second line contains 'N' single space separated integers representing the elements in the array/list.\n",
    "\n",
    "Output Format :\n",
    "    \n",
    "For each test case, print the value of 'K' or the index from which which the array/list has been rotated.\n",
    "\n",
    "Output for every test case will be printed in a separate line.\n",
    "\n",
    "Constraints :\n",
    "    \n",
    "1 <= t <= 10^2\n",
    "\n",
    "0 <= N <= 10^5\n",
    "\n",
    "Time Limit: 1 sec"
   ]
  },
  {
   "cell_type": "code",
   "execution_count": 1,
   "metadata": {},
   "outputs": [
    {
     "name": "stdout",
     "output_type": "stream",
     "text": [
      "2\n"
     ]
    }
   ],
   "source": [
    "\n",
    "from sys import stdin\n",
    "\n",
    "def arrayRotateCheck(arr, n):\n",
    "    #Your code goes here\n",
    "    min= arr[0]\n",
    "    min_index=0\n",
    "    for i in range(0, n): \n",
    "      \n",
    "        if (min > arr[i]): \n",
    "          \n",
    "            min = arr[i] \n",
    "            min_index = i \n",
    "          \n",
    "    return min_index\n",
    "\n",
    "# #Taking Input Using Fast I/O\n",
    "# def takeInput() :\n",
    "#     n = int(stdin.readline().rstrip())\n",
    "#     if n == 0:\n",
    "#         return list(), 0\n",
    "\n",
    "#     arr = list(map(int, stdin.readline().rstrip().split(\" \")))\n",
    "#     return arr, n\n",
    "\n",
    "\n",
    "# #main\n",
    "# t = int(stdin.readline().rstrip())\n",
    "\n",
    "# while t > 0 :\n",
    "\n",
    "#         arr, n = takeInput()\n",
    "#         if n==0:\n",
    "#             print(n)\n",
    "#         else:\n",
    "#             print(arrayRotateCheck(arr, n))\n",
    "\n",
    "#         t -= 1\n",
    "\n",
    "n = 6\n",
    "arr = [5 ,6 ,1, 2, 3, 4]\n",
    "print(arrayRotateCheck(arr, n))"
   ]
  },
  {
   "cell_type": "code",
   "execution_count": null,
   "metadata": {},
   "outputs": [],
   "source": [
    "\"\"\"\n",
    "Sample Input 1:\n",
    "1\n",
    "6\n",
    "5 6 1 2 3 4\n",
    "Sample Output 1:\n",
    "2\n",
    "Sample Input 2:\n",
    "2\n",
    "5\n",
    "3 6 8 9 10\n",
    "4\n",
    "10 20 30 1\n",
    "Sample Output 2:\n",
    "0\n",
    "3\n",
    "\"\"\""
   ]
  }
 ],
 "metadata": {
  "kernelspec": {
   "display_name": "Python 3",
   "language": "python",
   "name": "python3"
  },
  "language_info": {
   "codemirror_mode": {
    "name": "ipython",
    "version": 3
   },
   "file_extension": ".py",
   "mimetype": "text/x-python",
   "name": "python",
   "nbconvert_exporter": "python",
   "pygments_lexer": "ipython3",
   "version": "3.8.2"
  }
 },
 "nbformat": 4,
 "nbformat_minor": 4
}
