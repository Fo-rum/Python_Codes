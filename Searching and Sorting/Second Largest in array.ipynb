{
 "cells": [
  {
   "cell_type": "markdown",
   "metadata": {},
   "source": [
    "You have been given a random integer array/list(ARR) of size N. \n",
    "\n",
    "You are required to find and return the second largest element present in the array/list.\n",
    "\n",
    "If N <= 1 or all the elements are same in the array/list then return -2147483648 or -2 ^ 31(It is the smallest value for the range of Integer)"
   ]
  },
  {
   "cell_type": "markdown",
   "metadata": {},
   "source": [
    "Input format :\n",
    "    \n",
    "The first line contains an Integer 't' which denotes the number of test cases or queries to be run.\n",
    "Then the test cases follow.\n",
    "\n",
    "The first line of each test case or query contains an integer 'N' representing the size of the array/list.\n",
    "\n",
    "The second line contains 'N' single space separated integers representing the elements in the array/list.\n",
    "\n",
    "Output Format :\n",
    "    \n",
    "For each test case, print the second largest in the array/list if exists, -2147483648 otherwise.\n",
    "\n",
    "Output for every test case will be printed in a separate line.\n",
    "\n",
    "Constraints :\n",
    "    \n",
    "1 <= t <= 10^2\n",
    "\n",
    "0 <= N <= 10^5\n",
    "\n",
    "Time Limit: 1 sec"
   ]
  },
  {
   "cell_type": "code",
   "execution_count": 1,
   "metadata": {},
   "outputs": [
    {
     "name": "stdout",
     "output_type": "stream",
     "text": [
      "13\n"
     ]
    }
   ],
   "source": [
    "from sys import stdin\n",
    "\n",
    "\n",
    "def secondLargestElement(arr, n):\n",
    "    #Your code goes here\n",
    "    if n<=1:\n",
    "        return -2**31\n",
    "    else:\n",
    "        largest = second_largest = -2147483648        \n",
    "        for i in range(n):\n",
    "            if arr[i]>largest:\n",
    "                second_largest = largest\n",
    "                largest = arr[i]\n",
    "            elif arr[i]>second_largest and arr[i]!=largest:\n",
    "                second_largest = arr[i]\n",
    "    return second_largest            \n",
    "    \n",
    "\n",
    "\n",
    "# #Taking Input Using Fast I/O\n",
    "# def takeInput() :\n",
    "#     n = int(stdin.readline().rstrip())\n",
    "#     if n != 0:\n",
    "#         arr = list(map(int, stdin.readline().rstrip().split(\" \")))\n",
    "#         return arr, n\n",
    "\n",
    "#     return list(), 0\n",
    "\n",
    "\n",
    "\n",
    "# #main\n",
    "# t = int(stdin.readline().rstrip())\n",
    "\n",
    "# while t > 0 : \n",
    "    \n",
    "#     arr, n = takeInput()\n",
    "#     print(secondLargestElement(arr, n))\n",
    "\n",
    "#     t -= 1\n",
    "\n",
    "n = 7\n",
    "arr = [2 ,13, 4, 1, 3, 6, 28]\n",
    "print(secondLargestElement(arr, n))\n"
   ]
  },
  {
   "cell_type": "code",
   "execution_count": null,
   "metadata": {},
   "outputs": [],
   "source": [
    "\"\"\"\n",
    "Sample Input 1:\n",
    "1\n",
    "7\n",
    "2 13 4 1 3 6 28\n",
    "Sample Output 1:\n",
    "13\n",
    "Sample Input 2:\n",
    "1\n",
    "5\n",
    "9 3 6 2 9\n",
    "Sample Output 2:\n",
    "6\n",
    "Sample Input 3:\n",
    "2\n",
    "2\n",
    "6 6\n",
    "4\n",
    "90 8 90 5\n",
    "Sample Output 3:\n",
    "-2147483648\n",
    "8\n",
    "\"\"\""
   ]
  }
 ],
 "metadata": {
  "kernelspec": {
   "display_name": "Python 3",
   "language": "python",
   "name": "python3"
  },
  "language_info": {
   "codemirror_mode": {
    "name": "ipython",
    "version": 3
   },
   "file_extension": ".py",
   "mimetype": "text/x-python",
   "name": "python",
   "nbconvert_exporter": "python",
   "pygments_lexer": "ipython3",
   "version": "3.8.2"
  }
 },
 "nbformat": 4,
 "nbformat_minor": 4
}
