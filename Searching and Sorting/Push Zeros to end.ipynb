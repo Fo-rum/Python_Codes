{
 "cells": [
  {
   "cell_type": "markdown",
   "metadata": {},
   "source": [
    "You have been given a random integer array/list(ARR) of size N. \n",
    "\n",
    "You have been required to push all the zeros that are present in the array/list to the end of it. Also, make sure to maintain the relative order of the non-zero elements.\n",
    "\n",
    "Note:\n",
    "Change in the input array/list itself. You don't need to return or print the elements.\n",
    "\n",
    "You need to do this in one scan of array only. Don't use extra space."
   ]
  },
  {
   "cell_type": "markdown",
   "metadata": {},
   "source": [
    "Input format :\n",
    "    \n",
    "The first line contains an Integer 't' which denotes the number of test cases or queries to be run. \n",
    "\n",
    "Then the test cases follow.\n",
    "\n",
    "First line of each test case or query contains an integer 'N' representing the size of the array/list.\n",
    "\n",
    "Second line contains 'N' single space separated integers representing the elements in the array/list.\n",
    "\n",
    "Output Format :\n",
    "    \n",
    "For each test case, print the elements of the array/list in the desired order separated by a single space.\n",
    "\n",
    "Output for every test case will be printed in a separate line.\n",
    "\n",
    "Constraints :\n",
    "    \n",
    "1 <= t <= 10^2\n",
    "\n",
    "0 <= N <= 10^5\n",
    "\n",
    "Time Limit: 1 sec"
   ]
  },
  {
   "cell_type": "code",
   "execution_count": 1,
   "metadata": {},
   "outputs": [
    {
     "name": "stdout",
     "output_type": "stream",
     "text": [
      "2 1 3 0 0 0 0 \n"
     ]
    }
   ],
   "source": [
    "from sys import stdin\n",
    "\n",
    "#one scan\n",
    "def pushZerosAtEnd(arr, n) :\n",
    "    k=0\n",
    "    for i in range(n):\n",
    "        if arr[i]!=0:\n",
    "            arr[i], arr[k]= arr[k], arr[i]\n",
    "            k+=1\n",
    "\n",
    "#second approach. but there are two scans happening hence tle error. otherwise correct code\n",
    "# def pushZerosAtEnd(arr, n) :\n",
    "#     i =0 \n",
    "#     while(i<n):\n",
    "#         if arr[i]!=0:\n",
    "#             i = i +1\n",
    "#         else:            \n",
    "#             j = i+1\n",
    "#             while j < n:\n",
    "#                 if arr[j]!=0:\n",
    "#                     arr[j], arr[i]= arr[i], arr[j]\n",
    "#                     break\n",
    "#                 j = j + 1\n",
    "#             i = i + 1    \n",
    "  \n",
    "              \n",
    "#Taking Input Using Fast I/O\n",
    "def takeInput() :\n",
    "    n = int(stdin.readline().rstrip())\n",
    "\n",
    "    if n == 0:\n",
    "        return list(), 0\n",
    "    \n",
    "    arr = list(map(int, stdin.readline().rstrip().split()))\n",
    "    return arr, n\n",
    "  \n",
    "\n",
    "#to print the array/list\n",
    "def printList(arr, n) : \n",
    "    for i in range(n) :\n",
    "        print(arr[i], end = \" \")\n",
    "\n",
    "    print()\n",
    "\n",
    "\n",
    "# #main\n",
    "# t = int(stdin.readline().strip())\n",
    "\n",
    "# while t > 0 :\n",
    "\n",
    "#     arr, n = takeInput()\n",
    "\n",
    "#     pushZerosAtEnd(arr, n)\n",
    "#     printList(arr, n)\n",
    "\n",
    "#     t -= 1\n",
    "\n",
    "n = 7\n",
    "arr =[2 ,0 ,0, 1, 3, 0, 0]\n",
    "pushZerosAtEnd(arr, n)\n",
    "printList(arr, n)"
   ]
  },
  {
   "cell_type": "code",
   "execution_count": null,
   "metadata": {},
   "outputs": [],
   "source": [
    "\"\"\"\n",
    "Sample Input 1:\n",
    "1\n",
    "7\n",
    "2 0 0 1 3 0 0\n",
    "Sample Output 1:\n",
    "2 1 3 0 0 0 0\n",
    " Explanation for the Sample Input 1 :\n",
    "All the zeros have been pushed towards the end of the array/list. Another important fact is that the order of the non-zero elements have been maintained as they appear in the input array/list.\n",
    "Sample Input 2:\n",
    "2\n",
    "5\n",
    "0 3 0 2 0\n",
    "5\n",
    "9 0 0 8 2\n",
    "Sample Output 2:\n",
    "3 2 0 0 0\n",
    "9 8 2 0 0 \n",
    "\"\"\""
   ]
  }
 ],
 "metadata": {
  "kernelspec": {
   "display_name": "Python 3",
   "language": "python",
   "name": "python3"
  },
  "language_info": {
   "codemirror_mode": {
    "name": "ipython",
    "version": 3
   },
   "file_extension": ".py",
   "mimetype": "text/x-python",
   "name": "python",
   "nbconvert_exporter": "python",
   "pygments_lexer": "ipython3",
   "version": "3.8.2"
  }
 },
 "nbformat": 4,
 "nbformat_minor": 4
}
