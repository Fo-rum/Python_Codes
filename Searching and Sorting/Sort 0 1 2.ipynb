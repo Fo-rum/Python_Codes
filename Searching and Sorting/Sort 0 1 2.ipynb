{
 "cells": [
  {
   "cell_type": "markdown",
   "metadata": {},
   "source": [
    "You are given an integer array/list(ARR) of size N. It contains only 0s, 1s and 2s. \n",
    "\n",
    "Write a solution to sort this array/list in a 'single scan'.\n",
    "\n",
    "'Single Scan' refers to iterating over the array/list just once or to put it in other words, you will be visiting each element in the array/list just once.\n",
    "\n",
    "Note:\n",
    "You need to change in the given array/list itself. Hence, no need to return or print anything. "
   ]
  },
  {
   "cell_type": "markdown",
   "metadata": {},
   "source": [
    "Input format :\n",
    "The first line contains an Integer 't' which denotes the number of test cases or queries to be run. \n",
    "Then the test cases follow.\n",
    "\n",
    "First line of each test case or query contains an integer 'N' representing the size of the array/list.\n",
    "\n",
    "Second line contains 'N' single space separated integers(all 0s, 1s and 2s) representing the elements in the array/list.\n",
    "\n",
    "Output Format :\n",
    "For each test case, print the sorted array/list elements in a row separated by a single space.\n",
    "\n",
    "Output for every test case will be printed in a separate line.\n",
    "\n",
    "Constraints :\n",
    "\n",
    "1 <= t <= 10^2\n",
    "\n",
    "0 <= N <= 10^5\n",
    "\n",
    "Time Limit: 1 sec"
   ]
  },
  {
   "cell_type": "code",
   "execution_count": 2,
   "metadata": {},
   "outputs": [
    {
     "name": "stdout",
     "output_type": "stream",
     "text": [
      "0 0 0 1 1 2 2 \n"
     ]
    }
   ],
   "source": [
    "from sys import stdin \n",
    "\n",
    "def sort012(arr, n) :\n",
    "    #Your code goes here\n",
    "    count0= count1=count2 = 0\n",
    "    for i in range(n):\n",
    "        if arr[i]==0:\n",
    "            count0+=1\n",
    "        elif arr[i] == 1:\n",
    "            count1+= 1\n",
    "        else:\n",
    "            count2+=1\n",
    "    j = 0\n",
    "    while(j<n):\n",
    "        for i in range(count0):\n",
    "            arr[j]= 0\n",
    "            j = j + 1\n",
    "            \n",
    "        for i in range(count1):\n",
    "            arr[j]=1\n",
    "            j = j + 1\n",
    "            \n",
    "        for i in range(count2):\n",
    "            arr[j]=2\n",
    "            j = j + 1\n",
    "            \n",
    "# #Taking Input Using Fast I/O\n",
    "# def takeInput() :\n",
    "#     n = int(stdin.readline().rstrip())\n",
    "#     if n == 0 :\n",
    "#         return list(), 0\n",
    "\n",
    "#     arr = list(map(int, stdin.readline().rstrip().split(\" \")))\n",
    "#     return arr, n\n",
    "\n",
    "\n",
    "#to print the array/list\n",
    "def printList(arr, n) :\n",
    "    for i in range(n) :\n",
    "        print(arr[i], end = \" \")\n",
    "\n",
    "    print()\n",
    "\n",
    "\n",
    "# #main\n",
    "# t = int(stdin.readline().rstrip())\n",
    "\n",
    "# while t > 0 :\n",
    "    \n",
    "#     arr, n = takeInput()\n",
    "\n",
    "#     sort012(arr, n)\n",
    "#     printList(arr, n)\n",
    "    \n",
    "#     t -= 1\n",
    "\n",
    "n = 7\n",
    "arr = [0 ,1 ,2 ,0, 2, 0, 1]\n",
    "sort012(arr, n)\n",
    "printList(arr, n)"
   ]
  },
  {
   "cell_type": "code",
   "execution_count": null,
   "metadata": {},
   "outputs": [],
   "source": [
    "\"\"\"\n",
    "Sample Input 1:\n",
    "1\n",
    "7\n",
    "0 1 2 0 2 0 1\n",
    "Sample Output 1:\n",
    "0 0 0 1 1 2 2 \n",
    "Sample Input 2:\n",
    "2\n",
    "5\n",
    "2 2 0 1 1\n",
    "7\n",
    "0 1 2 0 1 2 0\n",
    "Sample Output 2:\n",
    "0 1 1 2 2 \n",
    "0 0 0 1 1 2 2\n",
    "\"\"\""
   ]
  }
 ],
 "metadata": {
  "kernelspec": {
   "display_name": "Python 3",
   "language": "python",
   "name": "python3"
  },
  "language_info": {
   "codemirror_mode": {
    "name": "ipython",
    "version": 3
   },
   "file_extension": ".py",
   "mimetype": "text/x-python",
   "name": "python",
   "nbconvert_exporter": "python",
   "pygments_lexer": "ipython3",
   "version": "3.8.2"
  }
 },
 "nbformat": 4,
 "nbformat_minor": 4
}
