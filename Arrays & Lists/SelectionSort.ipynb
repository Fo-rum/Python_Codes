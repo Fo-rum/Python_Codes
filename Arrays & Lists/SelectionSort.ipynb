{
 "cells": [
  {
   "cell_type": "code",
   "execution_count": 3,
   "metadata": {},
   "outputs": [
    {
     "name": "stdout",
     "output_type": "stream",
     "text": [
      "[1, 1, 2, 3, 4, 5, 6, 8, 12]\n"
     ]
    }
   ],
   "source": [
    "def selectionSort(arr):\n",
    "    length = len(arr)\n",
    "    for i in range(length-1):\n",
    "        minIndex = i\n",
    "        for j in range(i+1, length):\n",
    "            if (arr[j] < arr[minIndex]):\n",
    "                minIndex = j\n",
    "        arr[i], arr[minIndex] = arr[minIndex], arr[i]\n",
    "    \n",
    "arr = [4,1,2,3,6,5,8,12,1]\n",
    "selectionSort(arr)\n",
    "print(arr)"
   ]
  }
 ],
 "metadata": {
  "kernelspec": {
   "display_name": "Python 3",
   "language": "python",
   "name": "python3"
  },
  "language_info": {
   "codemirror_mode": {
    "name": "ipython",
    "version": 3
   },
   "file_extension": ".py",
   "mimetype": "text/x-python",
   "name": "python",
   "nbconvert_exporter": "python",
   "pygments_lexer": "ipython3",
   "version": "3.8.2"
  }
 },
 "nbformat": 4,
 "nbformat_minor": 4
}
