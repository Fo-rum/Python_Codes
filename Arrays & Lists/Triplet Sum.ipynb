{
 "cells": [
  {
   "cell_type": "markdown",
   "metadata": {},
   "source": [
    "You have been given a random integer array/list(ARR) and a number X.\n",
    "\n",
    "Find and return the number of triplets in the array/list which sum to X.\n",
    "\n",
    "Note :\n",
    "Given array/list can contain duplicate elements."
   ]
  },
  {
   "cell_type": "markdown",
   "metadata": {},
   "source": [
    "Input format :\n",
    "    \n",
    "The first line contains an Integer 't' which denotes the number of test cases or queries to be run. \n",
    "\n",
    "Then the test cases follow.\n",
    "\n",
    "First line of each test case or query contains an integer 'N' representing the size of the first array/list.\n",
    "\n",
    "Second line contains 'N' single space separated integers representing the elements in the array/list.\n",
    "\n",
    "Third line contains an integer 'X'.\n",
    "\n",
    "Output format :\n",
    "    \n",
    "For each test case, print the total number of triplets present in the array/list.\n",
    "\n",
    "Output for every test case will be printed in a separate line.\n",
    "\n",
    "Constraints :\n",
    "    \n",
    "1 <= t <= 50\n",
    "\n",
    "0 <= N <= 10^2\n",
    "\n",
    "0 <= X <= 10^9\n",
    "\n",
    "Time Limit: 1 sec"
   ]
  },
  {
   "cell_type": "code",
   "execution_count": 1,
   "metadata": {},
   "outputs": [
    {
     "name": "stdout",
     "output_type": "stream",
     "text": [
      "5\n"
     ]
    }
   ],
   "source": [
    "\n",
    "from sys import stdin\n",
    "\n",
    "def findTriplet(arr, n, x) :\n",
    "    count = 0\n",
    "    for i in range(n):\n",
    "        for j in range(i+1,n):\n",
    "            for k in range(j+1,n):\n",
    "                if arr[i]+arr[j]+ arr[k]==x:\n",
    "                    count = count + 1\n",
    "    return count                \n",
    "\n",
    "\n",
    "# #Taking Input Using Fast I/O\n",
    "# def takeInput() :\n",
    "#     n = int(stdin.readline().strip())\n",
    "\n",
    "#     if n == 0 :\n",
    "#         return list(), 0\n",
    "\n",
    "#     arr = list(map(int, stdin.readline().strip().split(\" \")))\n",
    "#     return arr, n\n",
    "\n",
    "\n",
    "\n",
    "# #main\n",
    "# t = int(stdin.readline().strip())\n",
    "\n",
    "# while t > 0 :\n",
    "\n",
    "#     arr, n = takeInput()\n",
    "#     x = int(stdin.readline().strip())\n",
    "#     print(findTriplet(arr, n, x))\n",
    "#     t -= 1\n",
    "\n",
    "n = 7\n",
    "arr=[1 ,2 ,3 ,4, 5, 6, 7 ]\n",
    "x = 12\n",
    "print(findTriplet(arr, n, x))"
   ]
  },
  {
   "cell_type": "code",
   "execution_count": null,
   "metadata": {},
   "outputs": [],
   "source": [
    "\"\"\"\n",
    "Sample Input 1:\n",
    "1\n",
    "7\n",
    "1 2 3 4 5 6 7 \n",
    "12\n",
    "Sample Output 1:\n",
    "5\n",
    "Sample Input 2:\n",
    "2\n",
    "7\n",
    "1 2 3 4 5 6 7 \n",
    "19\n",
    "9\n",
    "2 -5 8 -6 0 5 10 11 -3\n",
    "10\n",
    "Sample Output 2:\n",
    "0\n",
    "5\n",
    "\n",
    "\n",
    " Explanation for Input 2:\n",
    "Since there doesn't exist any triplet with sum equal to 19 for the first query, we print 0.\n",
    "\n",
    "For the second query, we have 5 triplets in total that sum up to 10. They are, (2, 8, 0), (2, 11, -3), (-5, 5, 10), (8, 5, -3) and (-6, 5, 11)\n",
    "\n",
    "\"\"\""
   ]
  }
 ],
 "metadata": {
  "kernelspec": {
   "display_name": "Python 3",
   "language": "python",
   "name": "python3"
  },
  "language_info": {
   "codemirror_mode": {
    "name": "ipython",
    "version": 3
   },
   "file_extension": ".py",
   "mimetype": "text/x-python",
   "name": "python",
   "nbconvert_exporter": "python",
   "pygments_lexer": "ipython3",
   "version": "3.8.2"
  }
 },
 "nbformat": 4,
 "nbformat_minor": 4
}
