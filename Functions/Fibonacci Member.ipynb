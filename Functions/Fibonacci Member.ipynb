{
 "cells": [
  {
   "cell_type": "markdown",
   "metadata": {},
   "source": [
    "Given a number N, figure out if it is a member of fibonacci series or not. Return true if the number is member of fibonacci series else false.\n",
    "Fibonacci Series is defined by the recurrence\n",
    "    F(n) = F(n-1) + F(n-2)\n",
    "where F(0) = 0 and F(1) = 1\n",
    "\n",
    "\n",
    "Input Format :\n",
    "Integer N\n",
    "\n",
    "Output Format :\n",
    "true or false\n",
    "\n",
    "Constraints :\n",
    "0 <= n <= 10^4"
   ]
  },
  {
   "cell_type": "code",
   "execution_count": null,
   "metadata": {},
   "outputs": [],
   "source": [
    "\n",
    "def checkMember(n):\n",
    "    a = 0\n",
    "    b = 1\n",
    "    flag = False\n",
    "    while (a<n):\n",
    "        c = a+b\n",
    "        a = b\n",
    "        b = c\n",
    "    if a==n:\n",
    "      flag = True\n",
    "    else:\n",
    "      flag = False\n",
    "    return flag        \n",
    "   \t\n",
    "n=int(input())\n",
    "if(checkMember(n)):\n",
    "    print(\"true\")\n",
    "else:\n",
    "    print(\"false\")"
   ]
  },
  {
   "cell_type": "code",
   "execution_count": null,
   "metadata": {},
   "outputs": [],
   "source": [
    "\"\"\"\n",
    "Sample Input 1 :\n",
    "5\n",
    "Sample Output 1 :\n",
    "true\n",
    "\n",
    "Sample Input 2 :\n",
    "14\n",
    "Sample Output 2 :\n",
    "false    \n",
    "\"\"\""
   ]
  }
 ],
 "metadata": {
  "kernelspec": {
   "display_name": "Python 3",
   "language": "python",
   "name": "python3"
  },
  "language_info": {
   "codemirror_mode": {
    "name": "ipython",
    "version": 3
   },
   "file_extension": ".py",
   "mimetype": "text/x-python",
   "name": "python",
   "nbconvert_exporter": "python",
   "pygments_lexer": "ipython3",
   "version": "3.8.2"
  }
 },
 "nbformat": 4,
 "nbformat_minor": 4
}
