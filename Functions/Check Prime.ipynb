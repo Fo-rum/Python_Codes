{
 "cells": [
  {
   "cell_type": "code",
   "execution_count": 6,
   "metadata": {},
   "outputs": [
    {
     "name": "stdout",
     "output_type": "stream",
     "text": [
      "51\n",
      "NOT PRIME\n"
     ]
    }
   ],
   "source": [
    "# the below code is not written using a function\n",
    "n = int(input())\n",
    "d = 2\n",
    "flag = False\n",
    "while d<n:\n",
    "    if(n%d == 0):\n",
    "        flag = True\n",
    "    d= d+1\n",
    "    \n",
    "if flag:\n",
    "    print(\"NOT PRIME\")\n",
    "else:\n",
    "    print(\"PRIME\")"
   ]
  }
 ],
 "metadata": {
  "kernelspec": {
   "display_name": "Python 3",
   "language": "python",
   "name": "python3"
  },
  "language_info": {
   "codemirror_mode": {
    "name": "ipython",
    "version": 3
   },
   "file_extension": ".py",
   "mimetype": "text/x-python",
   "name": "python",
   "nbconvert_exporter": "python",
   "pygments_lexer": "ipython3",
   "version": "3.8.2"
  }
 },
 "nbformat": 4,
 "nbformat_minor": 4
}
