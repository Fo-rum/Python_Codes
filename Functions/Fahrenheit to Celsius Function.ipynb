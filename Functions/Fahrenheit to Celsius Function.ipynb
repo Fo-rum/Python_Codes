{
 "cells": [
  {
   "cell_type": "markdown",
   "metadata": {},
   "source": [
    "Given three values - Start Fahrenheit Value (S), End Fahrenheit value (E) and Step Size (W), you need to convert all Fahrenheit values from Start to End at the gap of W, into their corresponding Celsius values and print the table.\n",
    "\n",
    "Input Format :\n",
    "3 integers - S, E and W respectively\n",
    "\n",
    "Output Format :\n",
    "Fahrenheit to Celsius conversion table. One line for every Fahrenheit and Celsius Fahrenheit value. Fahrenheit value and its corresponding Celsius value should be separate by tab (\"\\t\")\n",
    "\n",
    "Constraints :\n",
    "0 <= S <= 1000\n",
    "0 <= E <= 1000\n",
    "0 <= W <= 1000"
   ]
  },
  {
   "cell_type": "code",
   "execution_count": null,
   "metadata": {},
   "outputs": [],
   "source": [
    "\n",
    "\n",
    "\n",
    "def printTable(start,end,step):\n",
    "    res = 0\n",
    "    while start<=end:\n",
    "        res = (start-32) * 5/9\n",
    "        print(start, \"\", int(res))\n",
    "        start = start + step\n",
    "\t   \n",
    "s = int(input())\n",
    "e = int(input())\n",
    "step = int(input())\n",
    "printTable(s,e,step)\n",
    "\n",
    "\n",
    "#Alternative approach:\n",
    "# def printTable(start,end,step):\n",
    "#     res = 0\n",
    "#     for i in range(start, end+1, step):\n",
    "#             res = (i-32) * 5/9\n",
    "#             print(i, '', int(res))\n",
    "            \n",
    "# s = int(input())\n",
    "# e = int(input())\n",
    "# step = int(input())\n",
    "# printTable(s,e,step)            \n",
    "\n"
   ]
  },
  {
   "cell_type": "code",
   "execution_count": null,
   "metadata": {},
   "outputs": [],
   "source": [
    "\"\"\"\n",
    "Sample Input 1:\n",
    "0 \n",
    "100 \n",
    "20\n",
    "Sample Output 1:\n",
    "0   -17\n",
    "20  -6\n",
    "40  4\n",
    "60  15\n",
    "80  26\n",
    "100 37\n",
    "\"\"\""
   ]
  }
 ],
 "metadata": {
  "kernelspec": {
   "display_name": "Python 3",
   "language": "python",
   "name": "python3"
  },
  "language_info": {
   "codemirror_mode": {
    "name": "ipython",
    "version": 3
   },
   "file_extension": ".py",
   "mimetype": "text/x-python",
   "name": "python",
   "nbconvert_exporter": "python",
   "pygments_lexer": "ipython3",
   "version": "3.8.2"
  }
 },
 "nbformat": 4,
 "nbformat_minor": 4
}
