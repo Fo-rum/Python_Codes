{
 "cells": [
  {
   "cell_type": "code",
   "execution_count": 3,
   "metadata": {},
   "outputs": [
    {
     "name": "stdout",
     "output_type": "stream",
     "text": [
      "14\n",
      "2\n",
      "3\n",
      "5\n",
      "7\n",
      "11\n",
      "13\n"
     ]
    }
   ],
   "source": [
    "#the below is not written using a function\n",
    "n = int(input())\n",
    "k = 2\n",
    "while k<=n:\n",
    "    d = 2\n",
    "    flag = False\n",
    "    \n",
    "    while d<k:\n",
    "        if(k%d == 0):\n",
    "            flag = True\n",
    "        d = d + 1\n",
    "        \n",
    "    if(not(flag)):\n",
    "        print(k)\n",
    "    k = k+1"
   ]
  }
 ],
 "metadata": {
  "kernelspec": {
   "display_name": "Python 3",
   "language": "python",
   "name": "python3"
  },
  "language_info": {
   "codemirror_mode": {
    "name": "ipython",
    "version": 3
   },
   "file_extension": ".py",
   "mimetype": "text/x-python",
   "name": "python",
   "nbconvert_exporter": "python",
   "pygments_lexer": "ipython3",
   "version": "3.8.2"
  }
 },
 "nbformat": 4,
 "nbformat_minor": 4
}
