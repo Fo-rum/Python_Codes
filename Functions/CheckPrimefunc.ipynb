{
 "cells": [
  {
   "cell_type": "code",
   "execution_count": null,
   "metadata": {},
   "outputs": [],
   "source": [
    "#check for PRime\n",
    "def isPrime(n):\n",
    "    for d in range(2,n):\n",
    "        if (n%d == 0):\n",
    "            break\n",
    "        else:\n",
    "            return True\n",
    "        return False\n",
    "\n",
    "#extending above function to print from 2 to N:\n",
    "def primefrom2toN(n):\n",
    "    for k in range(2,n+1):\n",
    "        is_k_prime = isPrime(k)\n",
    "        if (is_k_prime):\n",
    "            print(k)"
   ]
  },
  {
   "cell_type": "code",
   "execution_count": null,
   "metadata": {},
   "outputs": [],
   "source": [
    "#check code for errors."
   ]
  }
 ],
 "metadata": {
  "kernelspec": {
   "display_name": "Python 3",
   "language": "python",
   "name": "python3"
  },
  "language_info": {
   "codemirror_mode": {
    "name": "ipython",
    "version": 3
   },
   "file_extension": ".py",
   "mimetype": "text/x-python",
   "name": "python",
   "nbconvert_exporter": "python",
   "pygments_lexer": "ipython3",
   "version": "3.8.2"
  }
 },
 "nbformat": 4,
 "nbformat_minor": 4
}
