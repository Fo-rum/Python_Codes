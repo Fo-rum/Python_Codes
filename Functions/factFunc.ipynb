{
 "cells": [
  {
   "cell_type": "code",
   "execution_count": 6,
   "metadata": {},
   "outputs": [
    {
     "name": "stdout",
     "output_type": "stream",
     "text": [
      "4\n",
      "24\n"
     ]
    }
   ],
   "source": [
    "def fact(a):\n",
    "    a_fact = 1\n",
    "    for i in range(1,n+1):\n",
    "        a_fact = a_fact * i\n",
    "    return a_fact\n",
    "\n",
    "n = int(input())\n",
    "n_fact = fact(n)\n",
    "print(n_fact)\n",
    "# r = int(input())\n",
    "# n_fact = fact(n)\n",
    "# r_fact = fact(r)\n",
    "# n_r_fact = fact(n-r)\n",
    "# ans = n_fact // (r_fact * n_r_fact)\n",
    "# print(ans)"
   ]
  }
 ],
 "metadata": {
  "kernelspec": {
   "display_name": "Python 3",
   "language": "python",
   "name": "python3"
  },
  "language_info": {
   "codemirror_mode": {
    "name": "ipython",
    "version": 3
   },
   "file_extension": ".py",
   "mimetype": "text/x-python",
   "name": "python",
   "nbconvert_exporter": "python",
   "pygments_lexer": "ipython3",
   "version": "3.8.2"
  }
 },
 "nbformat": 4,
 "nbformat_minor": 4
}
