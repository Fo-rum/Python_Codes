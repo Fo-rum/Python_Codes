{
 "cells": [
  {
   "cell_type": "code",
   "execution_count": 7,
   "metadata": {},
   "outputs": [
    {
     "name": "stdout",
     "output_type": "stream",
     "text": [
      "5\n",
      "E \n",
      "D E \n",
      "C D E \n",
      "B C D E \n",
      "A B C D E \n"
     ]
    }
   ],
   "source": [
    "#approach 1\n",
    "n = int(input())\n",
    "i = 0\n",
    "while i<n:\n",
    "    star_char = chr(ord('A')+n-i-1)\n",
    "    j = 0\n",
    "    while j<=i:\n",
    "        charP = chr(ord(star_char)+j)\n",
    "        print(charP, end= ' ')\n",
    "        j = j+1\n",
    "    print()\n",
    "    i = i+1"
   ]
  },
  {
   "cell_type": "code",
   "execution_count": null,
   "metadata": {},
   "outputs": [],
   "source": [
    "\"\"\"\n",
    "for n -> 5\n",
    "\n",
    "E\n",
    "D E\n",
    "C D E\n",
    "B C D E\n",
    "A B C D E\n",
    "\"\"\""
   ]
  },
  {
   "cell_type": "code",
   "execution_count": 8,
   "metadata": {},
   "outputs": [
    {
     "name": "stdout",
     "output_type": "stream",
     "text": [
      "5\n",
      "E \n",
      "D E \n",
      "C D E \n",
      "B C D E \n",
      "A B C D E \n"
     ]
    }
   ],
   "source": [
    "#approach 2\n",
    "n = int(input())\n",
    "i = 1\n",
    "while i<=n:\n",
    "    star_char = chr(ord('A')+n-i)\n",
    "    j = 1\n",
    "    while j<=i:\n",
    "        charP = chr(ord(star_char)+j-1)\n",
    "        print(charP, end= ' ')\n",
    "        j = j+1\n",
    "    print()\n",
    "    i = i+1"
   ]
  }
 ],
 "metadata": {
  "kernelspec": {
   "display_name": "Python 3",
   "language": "python",
   "name": "python3"
  },
  "language_info": {
   "codemirror_mode": {
    "name": "ipython",
    "version": 3
   },
   "file_extension": ".py",
   "mimetype": "text/x-python",
   "name": "python",
   "nbconvert_exporter": "python",
   "pygments_lexer": "ipython3",
   "version": "3.8.2"
  }
 },
 "nbformat": 4,
 "nbformat_minor": 4
}
