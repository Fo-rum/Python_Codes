{
 "cells": [
  {
   "cell_type": "code",
   "execution_count": 2,
   "metadata": {},
   "outputs": [
    {
     "name": "stdout",
     "output_type": "stream",
     "text": [
      "5\n",
      "    1\n",
      "   121\n",
      "  12321\n",
      " 1234321\n",
      "123454321\n"
     ]
    }
   ],
   "source": [
    "n = int(input())\n",
    "i = 1\n",
    "while i <= n:\n",
    "    spaces = 1\n",
    "    \n",
    "    #spaces\n",
    "    while spaces <= n-i:\n",
    "        print(' ', end=\"\")\n",
    "        spaces = spaces + 1\n",
    "    \n",
    "    p = 1\n",
    "    j = 1\n",
    "    \n",
    "    #increasing sequence\n",
    "    while j<=i:\n",
    "        print(p, end=\"\")\n",
    "        j = j+1\n",
    "        p = p+1\n",
    "    \n",
    "    #decreasing sequence\n",
    "    p = i- 1\n",
    "    while p >= 1:\n",
    "        print(p, end='')\n",
    "        p = p-1\n",
    "    print()\n",
    "    i =i +1"
   ]
  },
  {
   "cell_type": "code",
   "execution_count": null,
   "metadata": {},
   "outputs": [],
   "source": [
    "#printing isosceles triangle pattern\n",
    "\"\"\"\n",
    "    1\n",
    "   1 2 1\n",
    "  1 2 3 2 1\n",
    " 1 2 3 4 3 2 1\n",
    "\"\"\"\n",
    "\n",
    "#do not worry about the spaces in the end. The print statement will handle it and start a new line/row"
   ]
  }
 ],
 "metadata": {
  "kernelspec": {
   "display_name": "Python 3",
   "language": "python",
   "name": "python3"
  },
  "language_info": {
   "codemirror_mode": {
    "name": "ipython",
    "version": 3
   },
   "file_extension": ".py",
   "mimetype": "text/x-python",
   "name": "python",
   "nbconvert_exporter": "python",
   "pygments_lexer": "ipython3",
   "version": "3.8.2"
  }
 },
 "nbformat": 4,
 "nbformat_minor": 4
}
