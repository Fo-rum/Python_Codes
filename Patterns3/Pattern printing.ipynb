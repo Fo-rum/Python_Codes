{
 "cells": [
  {
   "cell_type": "code",
   "execution_count": 5,
   "metadata": {},
   "outputs": [
    {
     "name": "stdout",
     "output_type": "stream",
     "text": [
      "4\n",
      "      1 \n",
      "    2 3 2 \n",
      "  3 4 5 4 3 \n",
      "4 5 6 7 6 5 4 \n"
     ]
    }
   ],
   "source": [
    "n = int(input())\n",
    "for i in range(1, n+1, 1):\n",
    "    for s in range(n-i):\n",
    "        print(' ', end=' ')\n",
    "    for j in range(i, 2*i, 1):\n",
    "        print(j, end=' ')\n",
    "    for j in range(2*i-2, i-1, -1):\n",
    "        print(j, end= ' ')\n",
    "    print()"
   ]
  },
  {
   "cell_type": "code",
   "execution_count": null,
   "metadata": {},
   "outputs": [],
   "source": [
    "\"\"\"\n",
    "spaces -> n-i\n",
    "increasing -> (i, 2i-1, 1) -> (start, stop, step)\n",
    "decreasing -> (2i-2, i, -1) -> to stop at i, the stop must be i-1\n",
    "\n",
    "eg: 4 5 6 7 |   6 5 4\n",
    "          ^     ^\n",
    "    2*4-1 = 7   2i-1-1\n",
    "    (2i-1)      (2i-2)\n",
    "\"\"\""
   ]
  }
 ],
 "metadata": {
  "kernelspec": {
   "display_name": "Python 3",
   "language": "python",
   "name": "python3"
  },
  "language_info": {
   "codemirror_mode": {
    "name": "ipython",
    "version": 3
   },
   "file_extension": ".py",
   "mimetype": "text/x-python",
   "name": "python",
   "nbconvert_exporter": "python",
   "pygments_lexer": "ipython3",
   "version": "3.8.2"
  }
 },
 "nbformat": 4,
 "nbformat_minor": 4
}
