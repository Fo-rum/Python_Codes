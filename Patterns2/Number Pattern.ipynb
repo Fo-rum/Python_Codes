{
 "cells": [
  {
   "cell_type": "code",
   "execution_count": null,
   "metadata": {},
   "outputs": [],
   "source": [
    "## Read input as specified in the question.\n",
    "## Print output as specified in the question.\n",
    "# n = int(input())\n",
    "# i =1\n",
    "# #printing the first half\n",
    "# while i <= n:\n",
    "#     j = 1\n",
    "#     while j<=i:\n",
    "#         print(j, end='')\n",
    "#         j = j+1\n",
    "#     #printing spaces\n",
    "    \n",
    "#     while j<=2*n-2*i:\n",
    "#         print(\" \", end='')\n",
    "        \n",
    "#         j = j+1\n",
    "#     #printing second half    \n",
    "#     k = i\n",
    "#     while j<=2*n:\n",
    "#         if k==0:\n",
    "#           break\n",
    "#         else:  \n",
    "#           print(k, end='')\n",
    "#           k = k - 1\n",
    "#           j = j + 1\n",
    "#     print()\n",
    "#     i = i+1\n",
    "\n",
    "N =int(input())\n",
    "i=1\n",
    "while i<=N:\n",
    "    j=1\n",
    "    while j<=i:\n",
    "        print(j,end=\"\")\n",
    "        j =j+1      \n",
    "    j=j*2\n",
    "    while j<N*2+2:\n",
    "        print(\" \",end=\"\")\n",
    "        j=j+1 \n",
    "    j =i \n",
    "    while j>=1:\n",
    "        print (j,end=\"\")\n",
    "        j=j-1\n",
    "    print()\n",
    "    i=i+1\n",
    "        "
   ]
  },
  {
   "cell_type": "code",
   "execution_count": null,
   "metadata": {},
   "outputs": [],
   "source": [
    "\"\"\"\n",
    "Sample Input 1 :\n",
    "4\n",
    "Sample Output 1 :\n",
    "1      1\n",
    "12    21\n",
    "123  321\n",
    "12344321\n",
    "\"\"\""
   ]
  }
 ],
 "metadata": {
  "kernelspec": {
   "display_name": "Python 3",
   "language": "python",
   "name": "python3"
  },
  "language_info": {
   "codemirror_mode": {
    "name": "ipython",
    "version": 3
   },
   "file_extension": ".py",
   "mimetype": "text/x-python",
   "name": "python",
   "nbconvert_exporter": "python",
   "pygments_lexer": "ipython3",
   "version": "3.8.2"
  }
 },
 "nbformat": 4,
 "nbformat_minor": 4
}
