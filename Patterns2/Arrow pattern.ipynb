{
 "cells": [
  {
   "cell_type": "code",
   "execution_count": null,
   "metadata": {},
   "outputs": [],
   "source": [
    "\"\"\"\n",
    "Print the following pattern for the given number of rows.\n",
    "Assume N is always odd.\n",
    "Note : There is space after every star.\n",
    "Pattern for N = 7\n",
    "*\n",
    " * *\n",
    "   * * *\n",
    "     * * * *\n",
    "   * * *\n",
    " * *\n",
    "*\n",
    "\"\"\""
   ]
  },
  {
   "cell_type": "code",
   "execution_count": null,
   "metadata": {},
   "outputs": [],
   "source": [
    "## Read input as specified in the question.\n",
    "## Print output as specified in the question.\n",
    "n = int(input())\n",
    "\n",
    "n1 = (n+1)/2\n",
    "n2 = n//2\n",
    "\n",
    "#printing the first half of the pattern\n",
    "i = 1\n",
    "\n",
    "while i<=n1:\n",
    "    spaces = 1\n",
    "    while spaces <= i-1:\n",
    "        print(' ', end='')\n",
    "        spaces = spaces + 1\n",
    "    stars = 1\n",
    "    while stars <= i:\n",
    "        print('*', end='')\n",
    "        print(' ', end='')\n",
    "        stars = stars+1\n",
    "    print()\n",
    "    i = i + 1\n",
    "    \n",
    "#printing the second half of the pattern\n",
    "i = 1\n",
    "\n",
    "while i<= n2:\n",
    "    spaces = 1\n",
    "    while spaces <= n2-i:\n",
    "        print(' ', end='')\n",
    "        spaces = spaces + 1\n",
    "    stars = 1\n",
    "    while stars <= n2-i+1:\n",
    "        print('*', end='')\n",
    "        print(' ', end='')\n",
    "        stars = stars + 1\n",
    "    print()\n",
    "    i = i+1\n"
   ]
  }
 ],
 "metadata": {
  "kernelspec": {
   "display_name": "Python 3",
   "language": "python",
   "name": "python3"
  },
  "language_info": {
   "codemirror_mode": {
    "name": "ipython",
    "version": 3
   },
   "file_extension": ".py",
   "mimetype": "text/x-python",
   "name": "python",
   "nbconvert_exporter": "python",
   "pygments_lexer": "ipython3",
   "version": "3.8.2"
  }
 },
 "nbformat": 4,
 "nbformat_minor": 4
}
