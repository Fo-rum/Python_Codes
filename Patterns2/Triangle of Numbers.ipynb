{
 "cells": [
  {
   "cell_type": "markdown",
   "metadata": {},
   "source": [
    "Input format :\n",
    "Integer N (Total no. of rows)\n",
    "\n",
    "Output format :\n",
    "Pattern in N lines\n",
    "\n",
    "Constraints :\n",
    "0 <= N <= 50"
   ]
  },
  {
   "cell_type": "code",
   "execution_count": null,
   "metadata": {},
   "outputs": [],
   "source": [
    "\n",
    "## Read input as specified in the question\n",
    "## Print the required output in given format\n",
    "n = int(input())\n",
    "i = 1\n",
    "while i <=n:\n",
    "    spaces = 1\n",
    "    while spaces <= n-i:\n",
    "        print(' ', end='')\n",
    "        spaces= spaces + 1\n",
    "    k = i    \n",
    "    j = 1 \n",
    "    while j <=i:\n",
    "        print(k, end= '')\n",
    "        j = j+1\n",
    "        k = k+1\n",
    "    p = k - 2\n",
    "    l = 1\n",
    "    while l<i:\n",
    "        print(p, end='')\n",
    "        p = p - 1\n",
    "        l = l+1\n",
    "    print()\n",
    "    i = i+1\n",
    "        "
   ]
  },
  {
   "cell_type": "code",
   "execution_count": null,
   "metadata": {},
   "outputs": [],
   "source": [
    "\"\"\"\n",
    "Sample Input 2:\n",
    "4\n",
    "Sample Output 2:\n",
    "           1\n",
    "         232\n",
    "       34543\n",
    "     4567654\n",
    "\"\"\""
   ]
  }
 ],
 "metadata": {
  "kernelspec": {
   "display_name": "Python 3",
   "language": "python",
   "name": "python3"
  },
  "language_info": {
   "codemirror_mode": {
    "name": "ipython",
    "version": 3
   },
   "file_extension": ".py",
   "mimetype": "text/x-python",
   "name": "python",
   "nbconvert_exporter": "python",
   "pygments_lexer": "ipython3",
   "version": "3.8.2"
  }
 },
 "nbformat": 4,
 "nbformat_minor": 4
}
