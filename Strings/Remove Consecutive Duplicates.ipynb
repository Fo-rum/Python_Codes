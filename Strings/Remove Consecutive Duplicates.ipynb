{
 "cells": [
  {
   "cell_type": "markdown",
   "metadata": {},
   "source": [
    "For a given string(str), remove all the consecutive duplicate characters.\n",
    "\n",
    "Example:\n",
    "\n",
    "Input String: \"aaaa\"\n",
    "\n",
    "Expected Output: \"a\"\n",
    "\n",
    "Input String: \"aabbbcc\"\n",
    "\n",
    "Expected Output: \"abc\""
   ]
  },
  {
   "cell_type": "markdown",
   "metadata": {},
   "source": [
    "Input Format:\n",
    "    \n",
    "The first and only line of input contains a string without any leading and trailing spaces.\n",
    "All the characters in the string would be in lower case.\n",
    "\n",
    "Output Format:\n",
    "The only line of output prints the updated string.\n",
    "\n",
    "Note:\n",
    "You are not required to print anything. It has already been taken care of.\n",
    "\n",
    "Constraints:\n",
    "0 <= N <= 10^6\n",
    "\n",
    "Where N is the length of the input string.\n",
    "\n",
    "Time Limit: 1 second"
   ]
  },
  {
   "cell_type": "code",
   "execution_count": null,
   "metadata": {},
   "outputs": [],
   "source": [
    "## Read input as specified in the question.\n",
    "## Print output as specified in the question.\n",
    "# def removedup(str):\n",
    "#     n = len(str)\n",
    "#     i = 0\n",
    "#     new_string = ''\n",
    "#     while (i<n):\n",
    "#             if str[i] == str[i+1]:\n",
    "#                 i = i + 1\n",
    "#             else:\n",
    "#                 new_string += str[i]\n",
    "#                 i = i + 1\n",
    "#     return new_string        \n",
    "\n",
    "\n",
    "# s = input()\n",
    "# string = removedup(s)\n",
    "# print(string)\n",
    "\n",
    "def removedup(str):\n",
    "    i = 0\n",
    "    n = len(str)\n",
    "    j = None\n",
    "    s = ''\n",
    "    while (i<n):\n",
    "        if str[i]!=j:\n",
    "            s = s+str[i]\n",
    "            j = str[i]\n",
    "        i = i +1\n",
    "\n",
    "    return s        \n",
    "\n",
    "\n",
    "s = input()\n",
    "string = removedup(s)\n",
    "print(string)\n",
    "\n"
   ]
  },
  {
   "cell_type": "code",
   "execution_count": null,
   "metadata": {},
   "outputs": [],
   "source": [
    "\"\"\"\n",
    "Sample Input 1:\n",
    "aabccbaa\n",
    "Sample Output 1:\n",
    "abcba\n",
    "Sample Input 2:\n",
    "xxyyzxx\n",
    "Sample Output 2:\n",
    "xyzx\n",
    "\"\"\""
   ]
  }
 ],
 "metadata": {
  "kernelspec": {
   "display_name": "Python 3",
   "language": "python",
   "name": "python3"
  },
  "language_info": {
   "codemirror_mode": {
    "name": "ipython",
    "version": 3
   },
   "file_extension": ".py",
   "mimetype": "text/x-python",
   "name": "python",
   "nbconvert_exporter": "python",
   "pygments_lexer": "ipython3",
   "version": "3.8.2"
  }
 },
 "nbformat": 4,
 "nbformat_minor": 4
}
