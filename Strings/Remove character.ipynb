{
 "cells": [
  {
   "cell_type": "markdown",
   "metadata": {},
   "source": [
    "For a given a string(str) and a character X, write a function to remove all the occurrences of X from the given string.\n",
    "\n",
    "The input string will remain unchanged if the given character(X) doesn't exist in the input string."
   ]
  },
  {
   "cell_type": "markdown",
   "metadata": {},
   "source": [
    "Input Format:\n",
    "The first line of input contains a string without any leading and trailing spaces.\n",
    "\n",
    "The second line of input contains a character(X) without any leading and trailing spaces.\n",
    "\n",
    "Output Format:\n",
    "\n",
    "The only line of output prints the updated string. \n",
    "\n",
    "Note:\n",
    "You are not required to print anything explicitly. It has already been taken care of.\n",
    "\n",
    "Constraints:\n",
    "\n",
    "0 <= N <= 10^6\n",
    "\n",
    "Where N is the length of the input string.\n",
    "\n",
    "Time Limit: 1 second"
   ]
  },
  {
   "cell_type": "code",
   "execution_count": null,
   "metadata": {},
   "outputs": [],
   "source": [
    "## Read input as specified in the question.\n",
    "## Print output as specified in the question.\n",
    "def removex(s,x):\n",
    "    new_string=\"\"\n",
    "    for char in s:\n",
    "        if char != x:\n",
    "            new_string += char\n",
    "    return new_string        \n",
    "\n",
    "s = input()\n",
    "x = input()\n",
    "#s = s.lower()\n",
    "#x = x.lower()\n",
    "\n",
    "string = removex(s,x)\n",
    "print(string)"
   ]
  },
  {
   "cell_type": "code",
   "execution_count": null,
   "metadata": {},
   "outputs": [],
   "source": [
    "\"\"\"\n",
    "Sample Input 1:\n",
    "aabccbaa\n",
    "a\n",
    "Sample Output 1:\n",
    "bccb\n",
    "Sample Input 2:\n",
    "xxyyzxx\n",
    "y\n",
    "Sample Output 2:\n",
    "xxzxx\n",
    "\"\"\""
   ]
  }
 ],
 "metadata": {
  "kernelspec": {
   "display_name": "Python 3",
   "language": "python",
   "name": "python3"
  },
  "language_info": {
   "codemirror_mode": {
    "name": "ipython",
    "version": 3
   },
   "file_extension": ".py",
   "mimetype": "text/x-python",
   "name": "python",
   "nbconvert_exporter": "python",
   "pygments_lexer": "ipython3",
   "version": "3.8.2"
  }
 },
 "nbformat": 4,
 "nbformat_minor": 4
}
