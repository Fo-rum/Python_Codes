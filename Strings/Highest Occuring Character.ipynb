{
 "cells": [
  {
   "cell_type": "markdown",
   "metadata": {},
   "source": [
    "For a given a string(str), find and return the highest occurring character.\n",
    "\n",
    "Example:\n",
    "\n",
    "Input String: \"abcdeapapqarr\"\n",
    "\n",
    "Expected Output: 'a'\n",
    "\n",
    "Since 'a' has appeared four times in the string which happens to be the highest frequency character, the answer would be 'a'.\n",
    "\n",
    "If there are two characters in the input string with the same frequency, return the character which comes first.\n",
    "\n",
    "Consider:\n",
    "\n",
    "Assume all the characters in the given string to be in lowercase always."
   ]
  },
  {
   "cell_type": "markdown",
   "metadata": {},
   "source": [
    "Input Format:\n",
    "The first and only line of input contains a string without any leading and trailing spaces.\n",
    "\n",
    "Output Format:\n",
    "The only line of output prints the updated string. \n",
    "\n",
    "Note:\n",
    "You are not required to print anything explicitly. It has already been taken care of.\n",
    "\n",
    "Constraints:\n",
    "\n",
    "0 <= N <= 10^6\n",
    "\n",
    "Where N is the length of the input string.\n",
    "\n",
    "Time Limit: 1 second"
   ]
  },
  {
   "cell_type": "code",
   "execution_count": null,
   "metadata": {},
   "outputs": [],
   "source": [
    "## Read input as specified in the question.\n",
    "## Print output as specified in the question.\n",
    "ASCII_SIZE = 256\n",
    "def getMaxOccuringChar(str): \n",
    "    # Create array to keep the count of individual characters \n",
    "    # Initialize the count array to zero \n",
    "    count = [0] * ASCII_SIZE \n",
    "  \n",
    "    # Utility variables \n",
    "    max = -1\n",
    "    c = '' \n",
    "  \n",
    "    # Traversing through the string and maintaining the count of \n",
    "    # each character \n",
    "    for i in str: \n",
    "        count[ord(i)]+=1; \n",
    "  \n",
    "    for i in str: \n",
    "        if max < count[ord(i)]: \n",
    "            max = count[ord(i)] \n",
    "            c = i \n",
    "  \n",
    "    return c \n",
    "\n",
    "s = input()\n",
    "char = getMaxOccuringChar(s)\n",
    "print(char)"
   ]
  },
  {
   "cell_type": "code",
   "execution_count": null,
   "metadata": {},
   "outputs": [],
   "source": [
    "\"\"\"\n",
    "Sample Input 1:\n",
    "abdefgbabfba\n",
    "Sample Output 1:\n",
    "b\n",
    "Sample Input 2:\n",
    "xy\n",
    "Sample Output 2:\n",
    "x\n",
    "\"\"\""
   ]
  }
 ],
 "metadata": {
  "kernelspec": {
   "display_name": "Python 3",
   "language": "python",
   "name": "python3"
  },
  "language_info": {
   "codemirror_mode": {
    "name": "ipython",
    "version": 3
   },
   "file_extension": ".py",
   "mimetype": "text/x-python",
   "name": "python",
   "nbconvert_exporter": "python",
   "pygments_lexer": "ipython3",
   "version": "3.8.2"
  }
 },
 "nbformat": 4,
 "nbformat_minor": 4
}
