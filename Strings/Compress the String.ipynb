{
 "cells": [
  {
   "cell_type": "markdown",
   "metadata": {},
   "source": [
    "Write a program to do basic string compression. For a character which is consecutively repeated more than once, replace consecutive duplicate occurrences with the count of repetitions.\n",
    "\n",
    "Exmple:\n",
    "If a string has 'x' repeated 5 times, replace this \"xxxxx\" with \"x5\".\n",
    "\n",
    "The string is compressed only when the repeated character count is more than 1.\n",
    "\n",
    "Note :\n",
    "Consecutive count of every character in the input string is less than or equal to 9."
   ]
  },
  {
   "cell_type": "markdown",
   "metadata": {},
   "source": [
    "Input Format:\n",
    "    \n",
    "The first and only line of input contains a string without any leading and trailing spaces.\n",
    "\n",
    "Output Format:\n",
    "The only line of output prints the updated string.\n",
    "\n",
    "Note:\n",
    "You are not required to print anything. It has already been taken care of.\n",
    "\n",
    "Constraints:\n",
    "    \n",
    "0 <= N <= 10^6\n",
    "\n",
    "Where N is the length of the input string.\n",
    "\n",
    "Time Limit: 1 second"
   ]
  },
  {
   "cell_type": "code",
   "execution_count": null,
   "metadata": {},
   "outputs": [],
   "source": [
    "from sys import stdin,setrecursionlimit\n",
    "setrecursionlimit(10**7)\n",
    "\n",
    "def getCompressedString(str1) :\n",
    "    new_string = ''\n",
    "    n = len(str1)\n",
    "    i = 0\n",
    "    while(i<n):\n",
    "        count = 1\n",
    "        j = i\n",
    "        while(j<n-1):\n",
    "            if (str1[j]==str1[j+1]):\n",
    "                count +=1\n",
    "                j = j+1\n",
    "            else:\n",
    "                break\n",
    "        if count>1:\n",
    "            new_string += str1[i]\n",
    "            new_string+= str(count)\n",
    "        else:\n",
    "            new_string += str1[i]\n",
    "        i = j+1\n",
    "            \n",
    "    return new_string        \n",
    "\n",
    "#taking inpit using fast I/O\n",
    "def takeInput() :\n",
    "\t\n",
    "    str1 = input().strip()\n",
    "    return str1\n",
    "\n",
    "\n",
    "#main\n",
    "str1 = takeInput()\n",
    "print(getCompressedString(str1))\n",
    "\n",
    "\n",
    "#Another approach\n",
    "# n=input()\n",
    "# result=''\n",
    "# count=0\n",
    "# i=0\n",
    "# while(i<len(n)):\n",
    "#     k=i\n",
    "#     count = 0\n",
    "#     while k<len(n) and n[i]==n[k]:\n",
    "#         count=count+1\n",
    "#         k+=1\n",
    "#     if count>1:\n",
    "#         result=result+n[i]+str(count)\n",
    "#     else:\n",
    "#         result=result+str(n[i])\n",
    "#     i=k    \n",
    "# print(result)"
   ]
  },
  {
   "cell_type": "code",
   "execution_count": null,
   "metadata": {},
   "outputs": [],
   "source": [
    "\"\"\"\n",
    "Sample Input 1:\n",
    "aaabbccdsa\n",
    "Sample Output 1:\n",
    "a3b2c2dsa\n",
    "Sample Input 2:\n",
    "aaabbcddeeeee\n",
    "Sample Output 2:\n",
    "a3b2cd2e5\n",
    "\"\"\""
   ]
  }
 ],
 "metadata": {
  "kernelspec": {
   "display_name": "Python 3",
   "language": "python",
   "name": "python3"
  },
  "language_info": {
   "codemirror_mode": {
    "name": "ipython",
    "version": 3
   },
   "file_extension": ".py",
   "mimetype": "text/x-python",
   "name": "python",
   "nbconvert_exporter": "python",
   "pygments_lexer": "ipython3",
   "version": "3.8.2"
  }
 },
 "nbformat": 4,
 "nbformat_minor": 4
}
