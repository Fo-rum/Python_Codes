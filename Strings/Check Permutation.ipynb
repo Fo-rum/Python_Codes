{
 "cells": [
  {
   "cell_type": "markdown",
   "metadata": {},
   "source": [
    "For a given two strings, 'str1' and 'str2', check whether they are a permutation of each other or not.\n",
    "\n",
    "Permutations of each other\n",
    "Two strings are said to be a permutation of each other when either of the string's characters can be rearranged so that it becomes identical to the other one.\n",
    "\n",
    "Example: \n",
    "\n",
    "str1= \"sinrtg\" \n",
    "\n",
    "str2 = \"string\"\n",
    "\n",
    "The character of the first string(str1) can be rearranged to form str2 and hence we can say that the given strings are a permutation of each other."
   ]
  },
  {
   "cell_type": "markdown",
   "metadata": {},
   "source": [
    "Input Format:\n",
    "The first line of input contains a string without any leading and trailing spaces, representing the first string 'str1'.\n",
    "\n",
    "The second line of input contains a string without any leading and trailing spaces, representing the second string 'str2'.\n",
    "\n",
    "Note:\n",
    "\n",
    "All the characters in the input strings would be in lower case.\n",
    "\n",
    "Output Format:\n",
    "\n",
    "The only line of output prints either 'true' or 'false', denoting whether the two strings are a permutation of each other or not.\n",
    "\n",
    "You are not required to print anything. It has already been taken care of. Just implement the function. \n",
    "\n",
    "Constraints:\n",
    "\n",
    "0 <= N <= 10^6\n",
    "Where N is the length of the input string.\n",
    "\n",
    "Time Limit: 1 second\n"
   ]
  },
  {
   "cell_type": "code",
   "execution_count": null,
   "metadata": {},
   "outputs": [],
   "source": [
    "## Read input as specified in the question.\n",
    "## Print output as specified in the question.\n",
    "def checkpermutation(s,t):\n",
    "    n = len(s)\n",
    "    count = 0\n",
    "    for i in t:\n",
    "        if i in s:\n",
    "            count+=1\n",
    "    if count == n:\n",
    "        return \"true\"\n",
    "    else:\n",
    "        return \"false\"\n",
    "  \n",
    "s = input()\n",
    "t = input()\n",
    "s = s.lower()\n",
    "t = t.lower() \n",
    "perm = checkpermutation(s,t)\n",
    "print(perm)"
   ]
  },
  {
   "cell_type": "code",
   "execution_count": null,
   "metadata": {},
   "outputs": [],
   "source": [
    "\"\"\"\n",
    "Sample Input 1:\n",
    "abcde\n",
    "baedc\n",
    "Sample Output 1:\n",
    "true\n",
    "Sample Input 2:\n",
    "abc\n",
    "cbd\n",
    "Sample Output 2:\n",
    "false\n",
    "\"\"\""
   ]
  }
 ],
 "metadata": {
  "kernelspec": {
   "display_name": "Python 3",
   "language": "python",
   "name": "python3"
  },
  "language_info": {
   "codemirror_mode": {
    "name": "ipython",
    "version": 3
   },
   "file_extension": ".py",
   "mimetype": "text/x-python",
   "name": "python",
   "nbconvert_exporter": "python",
   "pygments_lexer": "ipython3",
   "version": "3.8.2"
  }
 },
 "nbformat": 4,
 "nbformat_minor": 4
}
