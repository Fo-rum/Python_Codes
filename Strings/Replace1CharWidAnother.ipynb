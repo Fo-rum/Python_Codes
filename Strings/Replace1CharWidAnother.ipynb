{
 "cells": [
  {
   "cell_type": "code",
   "execution_count": 2,
   "metadata": {},
   "outputs": [
    {
     "name": "stdout",
     "output_type": "stream",
     "text": [
      "ebcde\n"
     ]
    }
   ],
   "source": [
    "def replace(str,char1,char2):\n",
    "    new_str = ''\n",
    "    for char in str:\n",
    "        if(char == char1):\n",
    "            new_str += char2\n",
    "        else:\n",
    "            new_str += char\n",
    "            \n",
    "    return new_str\n",
    "\n",
    "str = 'abcda'\n",
    "str = replace(str,'a', 'e')\n",
    "print(str)"
   ]
  }
 ],
 "metadata": {
  "kernelspec": {
   "display_name": "Python 3",
   "language": "python",
   "name": "python3"
  },
  "language_info": {
   "codemirror_mode": {
    "name": "ipython",
    "version": 3
   },
   "file_extension": ".py",
   "mimetype": "text/x-python",
   "name": "python",
   "nbconvert_exporter": "python",
   "pygments_lexer": "ipython3",
   "version": "3.8.2"
  }
 },
 "nbformat": 4,
 "nbformat_minor": 4
}
