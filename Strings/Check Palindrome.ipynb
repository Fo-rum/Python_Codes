{
 "cells": [
  {
   "cell_type": "markdown",
   "metadata": {},
   "source": [
    "Given a string, determine if it is a palindrome, considering only alphanumeric characters.\n",
    "\n",
    "Palindrome\n",
    "A palindrome is a word, number, phrase, or other sequences of characters which read the same backwards and forwards.\n",
    "\n",
    "Example:\n",
    "If the input string happens to be, \"malayalam\" then as we see that this word can be read the same as forward and backwards, it is said to be a valid palindrome.\n",
    "\n",
    "The expected output for this example will print, 'true'.\n",
    "\n",
    "From that being said, you are required to return a boolean value from the function that has been asked to implement."
   ]
  },
  {
   "cell_type": "markdown",
   "metadata": {},
   "source": [
    "Input Format:\n",
    "The first and only line of input contains a string without any leading and trailing spaces. \n",
    "All the characters in the string would be in lower case.\n",
    "\n",
    "Output Format:\n",
    "The only line of output prints either 'true' or 'false'.\n",
    "\n",
    "Note:\n",
    "You are not required to print anything. It has already been taken care of.\n",
    "\n",
    "Constraints:\n",
    "\n",
    "0 <= N <= 10^6\n",
    "\n",
    "Where N is the length of the input string.\n",
    "\n",
    "Time Limit: 1 second"
   ]
  },
  {
   "cell_type": "code",
   "execution_count": null,
   "metadata": {},
   "outputs": [],
   "source": [
    "## Read input as specified in the question.\n",
    "## Print output as specified in the question.\n",
    "def checkPalindrome(s):\n",
    "    temp = s\n",
    "    temp1 = s[::-1]\n",
    "    if temp == temp1:\n",
    "        return \"true\"\n",
    "    return \"false\"\n",
    "\n",
    "a= input()\n",
    "check_s = checkPalindrome(a)\n",
    "print(check_s)\n"
   ]
  },
  {
   "cell_type": "code",
   "execution_count": null,
   "metadata": {},
   "outputs": [],
   "source": [
    "\"\"\"\n",
    "Sample Input 1 :\n",
    "abcdcba\n",
    "Sample Output 1 :\n",
    "true \n",
    "Sample Input 2:\n",
    "coding\n",
    "Sample Output 2:\n",
    "false\n",
    "\"\"\""
   ]
  }
 ],
 "metadata": {
  "kernelspec": {
   "display_name": "Python 3",
   "language": "python",
   "name": "python3"
  },
  "language_info": {
   "codemirror_mode": {
    "name": "ipython",
    "version": 3
   },
   "file_extension": ".py",
   "mimetype": "text/x-python",
   "name": "python",
   "nbconvert_exporter": "python",
   "pygments_lexer": "ipython3",
   "version": "3.8.2"
  }
 },
 "nbformat": 4,
 "nbformat_minor": 4
}
