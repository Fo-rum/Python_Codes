{
 "cells": [
  {
   "cell_type": "markdown",
   "metadata": {},
   "source": [
    "Aadil has been provided with a sentence in the form of a string as a function parameter. \n",
    "\n",
    "The task is to implement a function so as to print the sentence such that each word in the sentence is reversed.\n",
    "\n",
    "Example:\n",
    "\n",
    "Input Sentence: \"Hello, I am Aadil!\"\n",
    "\n",
    "The expected output will print, \",olleH I ma !lidaA\"."
   ]
  },
  {
   "cell_type": "markdown",
   "metadata": {},
   "source": [
    "Input Format:\n",
    "The first and only line of input contains a string without any leading and trailing spaces.\n",
    "\n",
    "The input string represents the sentence given to Aadil.\n",
    "\n",
    "Output Format:\n",
    "\n",
    "The only line of output prints the sentence(string) such that each word in the sentence is reversed. \n",
    "\n",
    "Constraints:\n",
    "\n",
    "0 <= N <= 10^6\n",
    "\n",
    "Where N is the length of the input string.\n",
    "\n",
    "Time Limit: 1 second\n"
   ]
  },
  {
   "cell_type": "code",
   "execution_count": null,
   "metadata": {},
   "outputs": [],
   "source": [
    "def reversestring(s):\n",
    "    list = []\n",
    "    new_string =\"\"\n",
    "    li = s.split()\n",
    "    for i in li:\n",
    "        list.append(i[::-1])\n",
    "    new_string = \" \".join(list)\n",
    "    \n",
    "    return new_string\n",
    " \n",
    "s = input()\n",
    "string = reversestring(s)\n",
    "print(string)"
   ]
  },
  {
   "cell_type": "code",
   "execution_count": null,
   "metadata": {},
   "outputs": [],
   "source": [
    "\"\"\"\n",
    "Sample Input 1:\n",
    "Welcome to Coding Ninjas\n",
    "Sample Output 1:\n",
    "emocleW ot gnidoC sajniN\n",
    "Sample Input 2:\n",
    "Always indent your code\n",
    "Sample Output 2:\n",
    "syawlA tnedni ruoy edoc\n",
    "\"\"\""
   ]
  }
 ],
 "metadata": {
  "kernelspec": {
   "display_name": "Python 3",
   "language": "python",
   "name": "python3"
  },
  "language_info": {
   "codemirror_mode": {
    "name": "ipython",
    "version": 3
   },
   "file_extension": ".py",
   "mimetype": "text/x-python",
   "name": "python",
   "nbconvert_exporter": "python",
   "pygments_lexer": "ipython3",
   "version": "3.8.2"
  }
 },
 "nbformat": 4,
 "nbformat_minor": 4
}
